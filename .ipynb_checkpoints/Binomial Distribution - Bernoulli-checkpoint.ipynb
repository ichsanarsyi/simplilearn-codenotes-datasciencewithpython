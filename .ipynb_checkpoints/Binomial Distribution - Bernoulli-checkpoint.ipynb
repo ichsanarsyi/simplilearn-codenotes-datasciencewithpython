{
 "cells": [
  {
   "cell_type": "code",
   "execution_count": 1,
   "id": "70a03055",
   "metadata": {},
   "outputs": [],
   "source": [
    "from scipy.stats import binom\n",
    "import matplotlib.pyplot as plt"
   ]
  },
  {
   "cell_type": "code",
   "execution_count": 2,
   "id": "091f9082",
   "metadata": {},
   "outputs": [],
   "source": [
    "# Setting the values of n and p\n",
    "n = 6\n",
    "p = 0.6"
   ]
  },
  {
   "cell_type": "code",
   "execution_count": 3,
   "id": "418ee4ae",
   "metadata": {},
   "outputs": [],
   "source": [
    "# Defining the list of r values\n",
    "r_values = list(range(n+1))"
   ]
  },
  {
   "cell_type": "code",
   "execution_count": 4,
   "id": "1311360b",
   "metadata": {},
   "outputs": [],
   "source": [
    "# Obtaining the mean and variance\n",
    "mean, var = binom.stats(n,p)"
   ]
  },
  {
   "cell_type": "code",
   "execution_count": 6,
   "id": "62d98cd8",
   "metadata": {},
   "outputs": [],
   "source": [
    "# list of pmf values\n",
    "dist = [binom.pmf(r,n,p) for r in r_values]"
   ]
  },
  {
   "cell_type": "code",
   "execution_count": 7,
   "id": "f91e8ddf",
   "metadata": {
    "scrolled": true
   },
   "outputs": [
    {
     "name": "stdout",
     "output_type": "stream",
     "text": [
      "r\tp(r)\n",
      "0\t0.0040960000000000015\n",
      "1\t0.03686400000000002\n",
      "2\t0.1382400000000001\n",
      "3\t0.2764800000000001\n",
      "4\t0.3110400000000001\n",
      "5\t0.1866240000000001\n",
      "6\t0.04665599999999999\n"
     ]
    }
   ],
   "source": [
    "# Printing the table\n",
    "print(\"r\\tp(r)\")\n",
    "for i in range(n+1):\n",
    "    print(str(r_values[i]) + \"\\t\" + str(dist[i]))"
   ]
  },
  {
   "cell_type": "code",
   "execution_count": 8,
   "id": "8ccc27c8",
   "metadata": {},
   "outputs": [
    {
     "data": {
      "image/png": "[encoded data removed]",
      "text/plain": [
       "<Figure size 432x288 with 1 Axes>"
      ]
     },
     "metadata": {
      "needs_background": "light"
     },
     "output_type": "display_data"
    }
   ],
   "source": [
    "# Plotting the graph\n",
    "plt.bar(r_values, dist)\n",
    "plt.show()"
   ]
  }
 ],
 "metadata": {
  "kernelspec": {
   "display_name": "Python 3 (ipykernel)",
   "language": "python",
   "name": "python3"
  },
  "language_info": {
   "codemirror_mode": {
    "name": "ipython",
    "version": 3
   },
   "file_extension": ".py",
   "mimetype": "text/x-python",
   "name": "python",
   "nbconvert_exporter": "python",
   "pygments_lexer": "ipython3",
   "version": "3.9.7"
  }
 },
 "nbformat": 4,
 "nbformat_minor": 5
}
