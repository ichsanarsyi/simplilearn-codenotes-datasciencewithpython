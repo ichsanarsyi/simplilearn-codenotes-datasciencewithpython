{
 "cells": [
  {
   "cell_type": "code",
   "execution_count": 1,
   "id": "bf590c55",
   "metadata": {},
   "outputs": [],
   "source": [
    "import numpy as np"
   ]
  },
  {
   "cell_type": "code",
   "execution_count": 2,
   "id": "e6a2095e",
   "metadata": {},
   "outputs": [
    {
     "name": "stdout",
     "output_type": "stream",
     "text": [
      "[2.73940647e-02 1.86258161e+00 9.23282230e-04 1.06462743e+00\n",
      " 5.37369971e+00 1.05314502e+00 6.88068610e-01 1.84423722e-02\n",
      " 1.56695737e-01 1.59859658e-01]\n"
     ]
    }
   ],
   "source": [
    "data1 = np.random.chisquare(df=1, size=1000)\n",
    "data2 = np.random.chisquare(df=2, size=1000)\n",
    "data3 = np.random.chisquare(df=3, size=1000)\n",
    "print(data1[:10])"
   ]
  },
  {
   "cell_type": "code",
   "execution_count": 3,
   "id": "cb3c6b6a",
   "metadata": {},
   "outputs": [],
   "source": [
    "import matplotlib.pyplot as plt\n",
    "import seaborn as sns"
   ]
  },
  {
   "cell_type": "code",
   "execution_count": 6,
   "id": "edaea829",
   "metadata": {
    "scrolled": false
   },
   "outputs": [
    {
     "name": "stderr",
     "output_type": "stream",
     "text": [
      "C:\\ProgramData\\Anaconda3\\lib\\site-packages\\seaborn\\distributions.py:2619: FutureWarning: `distplot` is a deprecated function and will be removed in a future version. Please adapt your code to use either `displot` (a figure-level function with similar flexibility) or `kdeplot` (an axes-level function for kernel density plots).\n",
      "  warnings.warn(msg, FutureWarning)\n",
      "C:\\ProgramData\\Anaconda3\\lib\\site-packages\\seaborn\\distributions.py:2619: FutureWarning: `distplot` is a deprecated function and will be removed in a future version. Please adapt your code to use either `displot` (a figure-level function with similar flexibility) or `kdeplot` (an axes-level function for kernel density plots).\n",
      "  warnings.warn(msg, FutureWarning)\n",
      "C:\\ProgramData\\Anaconda3\\lib\\site-packages\\seaborn\\distributions.py:2619: FutureWarning: `distplot` is a deprecated function and will be removed in a future version. Please adapt your code to use either `displot` (a figure-level function with similar flexibility) or `kdeplot` (an axes-level function for kernel density plots).\n",
      "  warnings.warn(msg, FutureWarning)\n"
     ]
    },
    {
     "data": {
      "text/plain": [
       "<matplotlib.legend.Legend at 0x276b0059280>"
      ]
     },
     "execution_count": 6,
     "metadata": {},
     "output_type": "execute_result"
    },
    {
     "data": {
      "image/png": "[encoded data removed]",
      "text/plain": [
       "<Figure size 432x288 with 1 Axes>"
      ]
     },
     "metadata": {
      "needs_background": "light"
     },
     "output_type": "display_data"
    }
   ],
   "source": [
    "sns.distplot(data1, hist=False, label=\"dof 1\")\n",
    "sns.distplot(data2, hist=False, label=\"dof 2\")\n",
    "sns.distplot(data3, hist=False, label=\"dof 3\")\n",
    "plt.legend()"
   ]
  },
  {
   "cell_type": "code",
   "execution_count": 8,
   "id": "eeb0cdb9",
   "metadata": {},
   "outputs": [],
   "source": [
    "from scipy.stats import chi2_contingency"
   ]
  },
  {
   "cell_type": "code",
   "execution_count": 9,
   "id": "9a6acab5",
   "metadata": {},
   "outputs": [],
   "source": [
    "data = [[10,20,30],[6,9,17]]"
   ]
  },
  {
   "cell_type": "code",
   "execution_count": 10,
   "id": "8ebe5013",
   "metadata": {},
   "outputs": [],
   "source": [
    "stat, p_value, dof, chi_array = chi2_contingency(data)"
   ]
  },
  {
   "cell_type": "code",
   "execution_count": 11,
   "id": "13de74ad",
   "metadata": {},
   "outputs": [
    {
     "data": {
      "text/plain": [
       "0.873028283380073"
      ]
     },
     "execution_count": 11,
     "metadata": {},
     "output_type": "execute_result"
    }
   ],
   "source": [
    "p_value"
   ]
  },
  {
   "cell_type": "code",
   "execution_count": 12,
   "id": "e03bf411",
   "metadata": {},
   "outputs": [],
   "source": [
    "data2 = [[10,20,30],[9,1,8]]"
   ]
  },
  {
   "cell_type": "code",
   "execution_count": 13,
   "id": "df1ddbec",
   "metadata": {},
   "outputs": [],
   "source": [
    "stat, p_value, dof, chi_array = chi2_contingency(data2)"
   ]
  },
  {
   "cell_type": "code",
   "execution_count": 14,
   "id": "eacd471f",
   "metadata": {},
   "outputs": [
    {
     "data": {
      "text/plain": [
       "0.005595003173072842"
      ]
     },
     "execution_count": 14,
     "metadata": {},
     "output_type": "execute_result"
    }
   ],
   "source": [
    "p_value"
   ]
  }
 ],
 "metadata": {
  "kernelspec": {
   "display_name": "Python 3 (ipykernel)",
   "language": "python",
   "name": "python3"
  },
  "language_info": {
   "codemirror_mode": {
    "name": "ipython",
    "version": 3
   },
   "file_extension": ".py",
   "mimetype": "text/x-python",
   "name": "python",
   "nbconvert_exporter": "python",
   "pygments_lexer": "ipython3",
   "version": "3.9.7"
  }
 },
 "nbformat": 4,
 "nbformat_minor": 5
}
