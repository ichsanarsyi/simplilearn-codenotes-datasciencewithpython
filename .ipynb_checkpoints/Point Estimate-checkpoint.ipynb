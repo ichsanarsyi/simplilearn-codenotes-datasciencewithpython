{
 "cells": [
  {
   "cell_type": "code",
   "execution_count": 1,
   "id": "73bc889f",
   "metadata": {},
   "outputs": [],
   "source": [
    "# Random date of forty employees\n",
    "data = [30, 26, 33, 26, 26, 33, 31, 31, 21, 37,\n",
    "       27, 20, 34, 35, 30, 24, 38, 34, 39, 31,\n",
    "       22, 30, 23, 23, 31, 44, 31, 33, 33, 26,\n",
    "       27, 28, 25, 35, 23, 32, 29, 31, 25, 27]"
   ]
  },
  {
   "cell_type": "code",
   "execution_count": 3,
   "id": "86c579ea",
   "metadata": {},
   "outputs": [],
   "source": [
    "n = len(data)"
   ]
  },
  {
   "cell_type": "code",
   "execution_count": 4,
   "id": "fa9160ce",
   "metadata": {},
   "outputs": [],
   "source": [
    "sample_mean = sum(data) / n"
   ]
  },
  {
   "cell_type": "code",
   "execution_count": 6,
   "id": "a05577d7",
   "metadata": {},
   "outputs": [
    {
     "name": "stdout",
     "output_type": "stream",
     "text": [
      "Sample mean:  29.6\n"
     ]
    }
   ],
   "source": [
    "print(\"Sample mean: \", sample_mean)"
   ]
  }
 ],
 "metadata": {
  "kernelspec": {
   "display_name": "Python 3 (ipykernel)",
   "language": "python",
   "name": "python3"
  },
  "language_info": {
   "codemirror_mode": {
    "name": "ipython",
    "version": 3
   },
   "file_extension": ".py",
   "mimetype": "text/x-python",
   "name": "python",
   "nbconvert_exporter": "python",
   "pygments_lexer": "ipython3",
   "version": "3.9.7"
  }
 },
 "nbformat": 4,
 "nbformat_minor": 5
}
