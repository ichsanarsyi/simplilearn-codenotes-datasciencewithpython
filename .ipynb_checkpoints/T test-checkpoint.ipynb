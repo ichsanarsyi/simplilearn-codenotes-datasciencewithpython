{
 "cells": [
  {
   "cell_type": "markdown",
   "id": "117b2c26",
   "metadata": {},
   "source": [
    "# T - Test\n",
    "## When is it used:\n",
    "1. When we want to determine if means of 2 groups are different or not\n",
    "2. When we want to compare means of two samples\n",
    "3. Sample size <= 30\n",
    "4. Data follows normal distribution\n",
    "\n",
    "## Independent Sample T-Test:\n",
    "1. Check the average of independent unrelated groups.\n",
    "2. Samples should be form 2 different populations.\n",
    "- Null Hypothesis: miu_a = miu_3\n",
    "- Alternate Hypothesis: miu_a != miu_3\n",
    "\n",
    "## Paired Sample T-Test:\n",
    "1. Average of 2 samples taken from the same population but in different points in time\n",
    "- Null Hypothesis: miu_4 = 0\n",
    "- Alternate Hypothesis: miu_4 != 0\n",
    "\n",
    "## One Sample T-Test:\n",
    "1. Average of a single group is different from known average\n",
    "- Null Hypothesis: miu_a = x\n",
    "- Alternate Hypothesis: miu_a != x"
   ]
  },
  {
   "cell_type": "code",
   "execution_count": 3,
   "id": "4967179c",
   "metadata": {
    "scrolled": true
   },
   "outputs": [],
   "source": [
    "import random\n",
    "a = [random.gauss(50,20) for x in range(30)]\n",
    "b = [random.gauss(55,15) for x in range(30)]"
   ]
  },
  {
   "cell_type": "code",
   "execution_count": 4,
   "id": "ba1b1837",
   "metadata": {},
   "outputs": [
    {
     "data": {
      "text/plain": [
       "<AxesSubplot:ylabel='Density'>"
      ]
     },
     "execution_count": 4,
     "metadata": {},
     "output_type": "execute_result"
    },
    {
     "data": {
      "image/png": "[encoded data removed]",
      "text/plain": [
       "<Figure size 432x288 with 1 Axes>"
      ]
     },
     "metadata": {},
     "output_type": "display_data"
    }
   ],
   "source": [
    "import seaborn as sns\n",
    "sns.set_style(\"darkgrid\")\n",
    "sns.kdeplot(a, shade=True)\n",
    "sns.kdeplot(b, shade=True)"
   ]
  },
  {
   "cell_type": "code",
   "execution_count": 6,
   "id": "e727feef",
   "metadata": {},
   "outputs": [],
   "source": [
    "import scipy.stats as stats"
   ]
  },
  {
   "cell_type": "code",
   "execution_count": 7,
   "id": "4988961c",
   "metadata": {},
   "outputs": [
    {
     "data": {
      "text/plain": [
       "(0.004758329226331128, 0.9962201741157111)"
      ]
     },
     "execution_count": 7,
     "metadata": {},
     "output_type": "execute_result"
    }
   ],
   "source": [
    "t_stats, p_value = stats.ttest_ind(a, b, equal_var=False)\n",
    "t_stats, p_value"
   ]
  },
  {
   "cell_type": "code",
   "execution_count": 8,
   "id": "223db25c",
   "metadata": {},
   "outputs": [],
   "source": [
    "import numpy as np"
   ]
  },
  {
   "cell_type": "code",
   "execution_count": 9,
   "id": "378f5256",
   "metadata": {
    "scrolled": true
   },
   "outputs": [
    {
     "data": {
      "text/plain": [
       "(50.31388782924839, 50.293396640294716)"
      ]
     },
     "execution_count": 9,
     "metadata": {},
     "output_type": "execute_result"
    }
   ],
   "source": [
    "np.mean(a), np.mean(b)"
   ]
  },
  {
   "cell_type": "markdown",
   "id": "4752c086",
   "metadata": {},
   "source": [
    "### Paired"
   ]
  },
  {
   "cell_type": "code",
   "execution_count": 11,
   "id": "0a959e27",
   "metadata": {},
   "outputs": [],
   "source": [
    "d = [random.gauss(50,20) for x in range(30)]\n",
    "e = [random.gauss(60,25) for x in range(30)]"
   ]
  },
  {
   "cell_type": "code",
   "execution_count": 16,
   "id": "502ad798",
   "metadata": {},
   "outputs": [
    {
     "data": {
      "text/plain": [
       "(-1.7267959178030738, 0.09484372944315606)"
      ]
     },
     "execution_count": 16,
     "metadata": {},
     "output_type": "execute_result"
    }
   ],
   "source": [
    "t_stats, p_value = stats.ttest_rel(d, e)\n",
    "t_stats, p_value"
   ]
  },
  {
   "cell_type": "code",
   "execution_count": 18,
   "id": "ef08ff61",
   "metadata": {},
   "outputs": [
    {
     "data": {
      "text/plain": [
       "10.36951335774382"
      ]
     },
     "execution_count": 18,
     "metadata": {},
     "output_type": "execute_result"
    }
   ],
   "source": [
    "np.mean(e) - np.mean(d)"
   ]
  },
  {
   "cell_type": "markdown",
   "id": "84feee9c",
   "metadata": {},
   "source": [
    "### One"
   ]
  },
  {
   "cell_type": "code",
   "execution_count": 21,
   "id": "6b9efaf3",
   "metadata": {},
   "outputs": [
    {
     "data": {
      "text/plain": [
       "(-10.682799852403269, 1.4444101841774763e-11)"
      ]
     },
     "execution_count": 21,
     "metadata": {},
     "output_type": "execute_result"
    }
   ],
   "source": [
    "t_stats, p_value = stats.ttest_1samp(d, 100, axis=0)\n",
    "t_stats, p_value"
   ]
  },
  {
   "cell_type": "code",
   "execution_count": null,
   "id": "5c44daf0",
   "metadata": {},
   "outputs": [],
   "source": []
  }
 ],
 "metadata": {
  "kernelspec": {
   "display_name": "Python 3 (ipykernel)",
   "language": "python",
   "name": "python3"
  },
  "language_info": {
   "codemirror_mode": {
    "name": "ipython",
    "version": 3
   },
   "file_extension": ".py",
   "mimetype": "text/x-python",
   "name": "python",
   "nbconvert_exporter": "python",
   "pygments_lexer": "ipython3",
   "version": "3.9.7"
  }
 },
 "nbformat": 4,
 "nbformat_minor": 5
}
