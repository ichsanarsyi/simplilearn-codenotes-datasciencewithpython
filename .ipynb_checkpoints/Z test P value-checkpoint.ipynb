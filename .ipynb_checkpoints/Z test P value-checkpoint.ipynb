{
 "cells": [
  {
   "cell_type": "code",
   "execution_count": 1,
   "id": "ec0d2abe",
   "metadata": {},
   "outputs": [],
   "source": [
    "import random\n",
    "random.seed(20)\n",
    "from statsmodels.stats.weightstats import ztest as ztest"
   ]
  },
  {
   "cell_type": "markdown",
   "id": "a1d6f6ce",
   "metadata": {},
   "source": [
    "$ \\mu = 100 $ <br>\n",
    "$ \\sigma = 15 $"
   ]
  },
  {
   "cell_type": "code",
   "execution_count": 2,
   "id": "1d8d01bc",
   "metadata": {},
   "outputs": [],
   "source": [
    "a = [random.gauss(100,15) for x in range(40)]"
   ]
  },
  {
   "cell_type": "code",
   "execution_count": 4,
   "id": "50ebc2e1",
   "metadata": {},
   "outputs": [
    {
     "data": {
      "text/plain": [
       "(1.3430675401429018, 0.17925010504664385)"
      ]
     },
     "execution_count": 4,
     "metadata": {},
     "output_type": "execute_result"
    }
   ],
   "source": [
    "ztest(a, value = 100)"
   ]
  },
  {
   "cell_type": "code",
   "execution_count": 5,
   "id": "16e1c04c",
   "metadata": {},
   "outputs": [],
   "source": [
    "b = [random.gauss(120,15) for x in range(40)]"
   ]
  },
  {
   "cell_type": "code",
   "execution_count": 8,
   "id": "3d4eea8d",
   "metadata": {
    "scrolled": true
   },
   "outputs": [
    {
     "data": {
      "text/plain": [
       "(7.8519708903183885, 2.047747825025016e-15)"
      ]
     },
     "execution_count": 8,
     "metadata": {},
     "output_type": "execute_result"
    }
   ],
   "source": [
    "ztest(b, value=100, alternative=\"larger\")"
   ]
  },
  {
   "cell_type": "code",
   "execution_count": 9,
   "id": "76ca12c0",
   "metadata": {},
   "outputs": [],
   "source": [
    "c = [random.gauss(80,15) for x in range(40)]"
   ]
  },
  {
   "cell_type": "code",
   "execution_count": 10,
   "id": "eddafb40",
   "metadata": {},
   "outputs": [
    {
     "data": {
      "text/plain": [
       "(-8.827369053119002, 5.358336411467834e-19)"
      ]
     },
     "execution_count": 10,
     "metadata": {},
     "output_type": "execute_result"
    }
   ],
   "source": [
    "ztest(c, value=100, alternative=\"smaller\")"
   ]
  },
  {
   "cell_type": "code",
   "execution_count": 11,
   "id": "1510cfb8",
   "metadata": {},
   "outputs": [],
   "source": [
    "d = [random.gauss(100,15) for x in range(40)]\n",
    "e = [random.gauss(120,15) for x in range(40)]"
   ]
  },
  {
   "cell_type": "code",
   "execution_count": 12,
   "id": "b936a579",
   "metadata": {},
   "outputs": [
    {
     "data": {
      "text/plain": [
       "(-6.408309427449128, 1.4714204928391318e-10)"
      ]
     },
     "execution_count": 12,
     "metadata": {},
     "output_type": "execute_result"
    }
   ],
   "source": [
    "ztest(d, e, value=0)"
   ]
  },
  {
   "cell_type": "code",
   "execution_count": 14,
   "id": "1de18712",
   "metadata": {},
   "outputs": [
    {
     "data": {
      "text/plain": [
       "(-0.42258605980082026, 0.6725972991633598)"
      ]
     },
     "execution_count": 14,
     "metadata": {},
     "output_type": "execute_result"
    }
   ],
   "source": [
    "f = [random.gauss(100,15) for x in range(40)]\n",
    "g = [random.gauss(100,15) for x in range(40)]\n",
    "ztest(f, g, value=0)"
   ]
  }
 ],
 "metadata": {
  "kernelspec": {
   "display_name": "Python 3 (ipykernel)",
   "language": "python",
   "name": "python3"
  },
  "language_info": {
   "codemirror_mode": {
    "name": "ipython",
    "version": 3
   },
   "file_extension": ".py",
   "mimetype": "text/x-python",
   "name": "python",
   "nbconvert_exporter": "python",
   "pygments_lexer": "ipython3",
   "version": "3.9.7"
  }
 },
 "nbformat": 4,
 "nbformat_minor": 5
}
