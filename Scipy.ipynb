{
 "cells": [
  {
   "cell_type": "code",
   "execution_count": 1,
   "id": "d8f4b6b6",
   "metadata": {},
   "outputs": [],
   "source": [
    "import numpy as np\n",
    "from scipy import linalg"
   ]
  },
  {
   "cell_type": "code",
   "execution_count": 6,
   "id": "cd5803e0",
   "metadata": {},
   "outputs": [],
   "source": [
    "\"\"\"\n",
    "Test has 30 questions and worth 150 works\n",
    "True and false questions worth 4 marks each\n",
    "multiple choice questions worth 9 points each\n",
    "\n",
    "let x is the number of true/false questions\n",
    "let y is the number of multiple choice questions\n",
    "\n",
    "(x+y=30)\n",
    "(4x+9y=150)\n",
    "\"\"\"\n",
    "\n",
    "testQuestionVariable = np.array([[1,1],[4,9]])\n",
    "testQuestionValue = np.array([30,150])"
   ]
  },
  {
   "cell_type": "code",
   "execution_count": 9,
   "id": "a165e85c",
   "metadata": {},
   "outputs": [
    {
     "data": {
      "text/plain": [
       "array([24.,  6.])"
      ]
     },
     "execution_count": 9,
     "metadata": {},
     "output_type": "execute_result"
    }
   ],
   "source": [
    "\"\"\"\n",
    "solve linear equation and find value for x and y\n",
    "\"\"\"\n",
    "linalg.solve(testQuestionVariable, testQuestionValue)"
   ]
  }
 ],
 "metadata": {
  "kernelspec": {
   "display_name": "Python 3 (ipykernel)",
   "language": "python",
   "name": "python3"
  },
  "language_info": {
   "codemirror_mode": {
    "name": "ipython",
    "version": 3
   },
   "file_extension": ".py",
   "mimetype": "text/x-python",
   "name": "python",
   "nbconvert_exporter": "python",
   "pygments_lexer": "ipython3",
   "version": "3.9.7"
  }
 },
 "nbformat": 4,
 "nbformat_minor": 5
}
